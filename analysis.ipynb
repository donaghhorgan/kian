{
 "cells": [
  {
   "cell_type": "markdown",
   "metadata": {},
   "source": [
    "# Called Kian? It's probably because of this guy.\n",
    "\n",
    "The number of babies called Kian increased sharply after the band Westlife became popular. Is this relationship coincidental? Or is there some deeper meaning?\n",
    "\n",
    "## Loading the data\n",
    "\n",
    "Let's start by importing the packages we'll need:"
   ]
  },
  {
   "cell_type": "code",
   "execution_count": null,
   "metadata": {
    "collapsed": false
   },
   "outputs": [],
   "source": [
    "import cufflinks as cf\n",
    "import numpy as np\n",
    "import pandas as pd\n",
    "import plot_helper as ph # Store custom plot code in a separate file for brevity\n",
    "import plotly.offline as py\n",
    "\n",
    "# Make sure we run cufflinks in offline mode\n",
    "cf.go_offline()"
   ]
  },
  {
   "cell_type": "markdown",
   "metadata": {},
   "source": [
    "### Irish baby name data\n",
    "\n",
    "Birth name data for Ireland is available at the [Central Statistics Office](http://www.cso.ie/px/pxeirestat/Database/eirestat/Irish%20Babies%20Names/Irish%20Babies%20Names_statbank.asp?sp=Irish%20Babies%20Names&Planguage=0). Unfortunately, right now, the available data sets are incomplete:\n",
    "\n",
    "- For the period 1964-2014, [data](http://www.cso.ie/px/pxeirestat/Statire/SelectVarVal/Define.asp?maintable=VSA05&PLanguage=0) is available for male names *only*.\n",
    "  - Within this set, data for 1988 and 1997-2005 are currently unavailable (although I was told that this will be fixed soon).\n",
    "- For the period 1998-2015, data is available for both [male](http://www.cso.ie/px/pxeirestat/Statire/SelectVarVal/Define.asp?maintable=VSA10&PLanguage=0) and [female](http://www.cso.ie/px/pxeirestat/Statire/SelectVarVal/Define.asp?maintable=VSA11&PLanguage=0) names.\n",
    "  - Within this set, data for 1997-2005 is only *partially* available.\n",
    "  - Not all names in a given year are represented.\n",
    "\n",
    "Fortunately, the name Kian is represented in both datasets. All we need to do is combine them to form a complete (except for 1988) picture of popularity from 1964-2015:"
   ]
  },
  {
   "cell_type": "code",
   "execution_count": null,
   "metadata": {
    "collapsed": false
   },
   "outputs": [],
   "source": [
    "# Load the data from the raw CSV files and combine it into a unified data frame\n",
    "vsa05 = pd.read_csv('VSA05.csv', index_col=0, skiprows=2, na_values='..')\n",
    "vsa10 = pd.read_csv('VSA10.csv', index_col=0, skiprows=2, na_values='..')\n",
    "baby_names = vsa05.combine_first(vsa10)\n",
    "\n",
    "# Initially, the rows are the names and the columns are the dates, so swap these\n",
    "baby_names = baby_names.T\n",
    "\n",
    "# Set the index, so that each year in the period 1964-2015 is represented (some are missing)\n",
    "baby_names.index = baby_names.index.map(pd.to_datetime)\n",
    "baby_names = baby_names.reindex(pd.date_range(baby_names.index.min(), baby_names.index.max(), freq='AS'))\n",
    "assert baby_names.shape[0] == 1 + (2015 - 1964)"
   ]
  },
  {
   "cell_type": "markdown",
   "metadata": {},
   "source": [
    "### Birth rate data\n",
    "\n",
    "The CSO also provide [data](http://www.cso.ie/px/pxeirestat/Statire/SelectVarVal/Define.asp?maintable=VSA18&PLanguage=0) for the total number of babies born in Ireland from 1864-2015:"
   ]
  },
  {
   "cell_type": "code",
   "execution_count": null,
   "metadata": {
    "collapsed": false
   },
   "outputs": [],
   "source": [
    "# Load the raw data\n",
    "births = pd.read_csv('VSA18.csv', index_col=0, skiprows=2, na_values='..', skipfooter=2)\n",
    "\n",
    "# Initially, the rows are the totals and the columns are the dates, so swap these\n",
    "births = births.T\n",
    "\n",
    "# Set the index, so that each year in the period 1864-2015 is represented (some are missing)\n",
    "births.index = births.index.map(pd.to_datetime)\n",
    "births = births.reindex(pd.date_range(births.index.min(), births.index.max(), freq='AS'))\n",
    "assert births.shape[0] == 1 + (2015 - 1864)"
   ]
  },
  {
   "cell_type": "markdown",
   "metadata": {},
   "source": [
    "### Westlife singles data\n",
    "\n",
    "Finally, here's some data on Westlife singles that I scraped from [Wikipedia](https://en.wikipedia.org/wiki/Westlife_discography#Singles):"
   ]
  },
  {
   "cell_type": "code",
   "execution_count": null,
   "metadata": {
    "collapsed": true
   },
   "outputs": [],
   "source": [
    "westlife = pd.read_csv('westlife_singles.csv', index_col='Year', parse_dates=True).dropna(axis=0)"
   ]
  },
  {
   "cell_type": "markdown",
   "metadata": {},
   "source": [
    "## Data cleaning and transformation\n",
    "\n",
    "We've loaded the data, but it needs to be cleaned up before we can analyse it further as both the baby name and the Westlife singles data sets are missing data points in the time period we're interested in.\n",
    "\n",
    "### Kian\n",
    "\n",
    "Let's start by isolating the name Kian from the rest of the baby name data:"
   ]
  },
  {
   "cell_type": "code",
   "execution_count": null,
   "metadata": {
    "collapsed": true
   },
   "outputs": [],
   "source": [
    "kian = baby_names.Kian.copy()\n",
    "kian.name = 'Babies called Kian'"
   ]
  },
  {
   "cell_type": "markdown",
   "metadata": {},
   "source": [
    "Unfortunately, there are some gaps in the data:"
   ]
  },
  {
   "cell_type": "code",
   "execution_count": null,
   "metadata": {
    "collapsed": false
   },
   "outputs": [],
   "source": [
    "print \"Number of missing points: %d\" % kian.value_counts(dropna=False)[np.nan]\n",
    "\n",
    "fig = ph.line_plot(kian)\n",
    "\n",
    "fig.layout.update(\n",
    "    title='Number of babies called Kian born in Ireland, 1964-2015',\n",
    "    yaxis=dict(\n",
    "        range=[0, 120],\n",
    "        title='Number of babies'\n",
    "    )\n",
    ")\n",
    "\n",
    "py.iplot(fig, show_link=False)"
   ]
  },
  {
   "cell_type": "markdown",
   "metadata": {},
   "source": [
    "Prior to 2000, the number of Kians born each year is relatively small, so it's reasonable to assume that there were no, or almost no, Kians born in these years, i.e. we can replace these missing points with zeros.\n",
    "\n",
    "However, there is also a missing data point at the end of the series, for the year 2015. In 2014, there were 72 Kians born and the years immediately prior to that show similar numbers. It therefore seems unlikely that that the popularity of the name collapsed completely in 2015. Data for 2016 and 2017 will verify this but, in the meantime, while we wait, let's just leave 2015 as a missing data point. This restricts our analysis to the period 1964-2014."
   ]
  },
  {
   "cell_type": "code",
   "execution_count": null,
   "metadata": {
    "collapsed": false
   },
   "outputs": [],
   "source": [
    "# Fill missing values with zeros\n",
    "kian.fillna(0, inplace=True)\n",
    "\n",
    "# Drop 2015 from the set\n",
    "kian.drop(pd.Timestamp('2015'), inplace=True)\n",
    "\n",
    "# Plot the results\n",
    "fig = ph.line_plot(kian)\n",
    "\n",
    "fig.layout.update(\n",
    "    title='Number of babies called Kian born in Ireland, 1964-2014',\n",
    "    yaxis=dict(\n",
    "        range=[0, 120],\n",
    "        title='Number of babies'\n",
    "    )\n",
    ")\n",
    "\n",
    "py.iplot(fig, show_link=False)"
   ]
  },
  {
   "cell_type": "markdown",
   "metadata": {},
   "source": [
    "While the raw data for Kian gives an impression of its popularity, it doesn't account for the variation in the number of babies born from year to year. For instance, if the number of Kians born in a given year is smaller than in another, it might be because of some underlying trend, but it could equally be due to differences in the total numbers of babies born in both years.\n",
    "\n",
    "A better way to think about popularity, then, is the *percentage* of babies named Kian in a given year:"
   ]
  },
  {
   "cell_type": "code",
   "execution_count": null,
   "metadata": {
    "collapsed": false
   },
   "outputs": [],
   "source": [
    "# Compute the percentage of babies called Kian in a given year\n",
    "kian_pc = kian / births.Male.ix['1964':'2014']\n",
    "kian_pc.name = kian.name\n",
    "\n",
    "# Plot the results\n",
    "fig = ph.line_plot(kian_pc)\n",
    "\n",
    "fig.layout.update(\n",
    "    title='Percentage of babies called Kian born in Ireland, 1964-2014',\n",
    "    yaxis=dict(\n",
    "        hoverformat='.2%',\n",
    "        range=[0, 0.004],\n",
    "        tickformat='.2%',\n",
    "        title='Percentage of babies'\n",
    "    )\n",
    ")\n",
    "\n",
    "py.iplot(fig, show_link=False)"
   ]
  },
  {
   "cell_type": "markdown",
   "metadata": {},
   "source": [
    "### Westlife\n",
    "\n",
    "Let's start by extracting the number of Westlife singles released each year:"
   ]
  },
  {
   "cell_type": "code",
   "execution_count": null,
   "metadata": {
    "collapsed": false
   },
   "outputs": [],
   "source": [
    "singles = westlife.dropna(axis=0).index.value_counts().reindex(kian.index)\n",
    "singles.name = 'Westlife singles'"
   ]
  },
  {
   "cell_type": "markdown",
   "metadata": {},
   "source": [
    "There are missing points for years where Westlife didn't release any singles:"
   ]
  },
  {
   "cell_type": "code",
   "execution_count": null,
   "metadata": {
    "collapsed": false
   },
   "outputs": [],
   "source": [
    "print \"Number of missing data points: %d\" % singles.value_counts(dropna=False)[np.nan]\n",
    "\n",
    "fig = ph.line_plot(singles)\n",
    "\n",
    "fig.data[0].line.update(color=cf.get_colorscale(cf.get_config_file()['colorscale'])[1][1])\n",
    "\n",
    "fig.layout.update(\n",
    "    title='Westlife single releases, 1964-2014',\n",
    "    yaxis=dict(\n",
    "        range=[0, 5],\n",
    "        title='Number of singles'\n",
    "    )\n",
    ")\n",
    "\n",
    "py.iplot(fig, show_link=False)"
   ]
  },
  {
   "cell_type": "markdown",
   "metadata": {},
   "source": [
    "This time we know that, wherever we have no data, it's because Westlife released no singles, so we can safely fill in any missing data points with zeros:"
   ]
  },
  {
   "cell_type": "code",
   "execution_count": null,
   "metadata": {
    "collapsed": false
   },
   "outputs": [],
   "source": [
    "singles.fillna(0, inplace=True)\n",
    "\n",
    "fig = ph.line_plot(singles)\n",
    "\n",
    "fig.data[0].line.update(color=cf.get_colorscale(cf.get_config_file()['colorscale'])[1][1])\n",
    "\n",
    "fig.layout.update(\n",
    "    title='Westlife single releases, 1964-2014',\n",
    "    yaxis=dict(\n",
    "        range=[0, 5],\n",
    "        title='Number of singles'\n",
    "    )\n",
    ")\n",
    "\n",
    "py.iplot(fig, show_link=False)"
   ]
  },
  {
   "cell_type": "markdown",
   "metadata": {},
   "source": [
    "## Visualising the relationship\n",
    "\n",
    "Now that we've got clean data sets, we can start to look at the relationship between them:"
   ]
  },
  {
   "cell_type": "code",
   "execution_count": null,
   "metadata": {
    "collapsed": false
   },
   "outputs": [],
   "source": [
    "data = pd.concat([kian_pc, singles], axis=1)\n",
    "fig = ph.line_plot(data, secondary_y=data.columns[1])\n",
    "\n",
    "fig.layout.update(\n",
    "    title='Popularity of the name Kian, 1964-2014',\n",
    "    yaxis1=dict(\n",
    "        dtick=0.0006,\n",
    "        range=[0, 0.0036],\n",
    "        title='Percentage of births'\n",
    "    ),\n",
    "    yaxis2=dict(\n",
    "        range=[0, 6],\n",
    "        title='Number of singles'\n",
    "    )\n",
    ")\n",
    "\n",
    "py.iplot(fig, show_link=False)"
   ]
  },
  {
   "cell_type": "markdown",
   "metadata": {},
   "source": [
    "Looking at both data sets together, it's clear that the name Kian became popular shortly after Westlife did. Specifically, it looks like the popularity of Kian lags the birth of Westlife by about two years. We can see this even more clearly if we lag the singles data by two years and use a scatter plot matrix:"
   ]
  },
  {
   "cell_type": "code",
   "execution_count": null,
   "metadata": {
    "collapsed": false
   },
   "outputs": [],
   "source": [
    "fig = ph.scatter_plot_matrix(pd.concat([kian_pc, singles.shift(2)], axis=1),\n",
    "                             y1_title='Percentage of births', y2_title='Number of singles (lagged)')\n",
    "\n",
    "fig.layout.update(\n",
    "    title='Popularity of the name Kian, 1964-2014',\n",
    "    yaxis1=dict(\n",
    "        dtick=0.0006,\n",
    "        range=[0, 0.0036]\n",
    "    ),\n",
    "    yaxis6=dict(\n",
    "        range=[0, 6]\n",
    "    )\n",
    ")\n",
    "\n",
    "py.iplot(fig, show_link=False)"
   ]
  },
  {
   "cell_type": "markdown",
   "metadata": {},
   "source": [
    "While it's tempting to say that Westlife caused Kian to become popular, we have to be careful not to wander into statistical traps. [Correlation does not imply causation.](https://en.wikipedia.org/wiki/Correlation_does_not_imply_causation) However, we can get a little more specific.\n",
    "\n",
    "## Granger causality test\n",
    "\n",
    "The [Granger causality test](https://en.wikipedia.org/wiki/Granger_causality) is a statistical test that can be used to determine whether one time series is a good predictor of another. More specifically, if we test to see if A is *Granger-caused* by B, and the test passes, we can then state that the past values of both A and B are a better predictor of A than the past values of A alone. This is not as strong a statement as saying that A is *caused* by B, but it does go further than simply stating that A and B are correlated.\n",
    "\n",
    "Let's start by importing the test tools:"
   ]
  },
  {
   "cell_type": "code",
   "execution_count": null,
   "metadata": {
    "collapsed": true
   },
   "outputs": [],
   "source": [
    "from statsmodels.tsa.stattools import grangercausalitytests\n",
    "from statsmodels.tsa.tsatools import lagmat"
   ]
  },
  {
   "cell_type": "markdown",
   "metadata": {},
   "source": [
    "The Granger causality test works by building two [vector regression](https://en.wikipedia.org/wiki/Vector_autoregression) models of the target time series. The first model is constructed from the past values of the target time series alone, while the second is built using the past values of the target series and the past values of another \"candidate\" series, for which we are testing the Granger causality hypothesis. Various hypothesis tests (e.g. $F$ test, $\\chi^2$ test, likelihood ratio test) can be performed to determine if a Granger causal relationship exists. Generally, the relationship is declared to exist if we reject the null hypothesis at a certain significance level (e.g. $p<0.05$).\n",
    "\n",
    "In cases where there is a [structural break](https://en.wikipedia.org/wiki/Structural_break) in the data, we can either introduce [dummy variables](#Predicting-popularity) to the regression or just check for the presence of a causal relationship on either side of the break separately. In our data, there is a structural break around 1999, when Westlife first began to release singles. Before this point, the Westlife single series has all-zero values, so it doesn't make sense to test for Granger causality here (an all zero vector has no predictive power in a regression), but we can do the check from 1999 onwards, up to a maximum of four lags."
   ]
  },
  {
   "cell_type": "code",
   "execution_count": null,
   "metadata": {
    "collapsed": false,
    "scrolled": true
   },
   "outputs": [],
   "source": [
    "results = grangercausalitytests(data.ix['1999':], 4)"
   ]
  },
  {
   "cell_type": "markdown",
   "metadata": {},
   "source": [
    "The test results show that a Granger causal relationship exists for lags of one and two years, although not for higher lags, at significance level of $p<0.05$. This effectively confirms our earlier suspicion: that Westlife singles have significant predictive power in forecasting the popularity of the name Kian.\n",
    "\n",
    "## Predicting popularity\n",
    "\n",
    "Now that we've confirmed that there's a Granger causal relationship in the data, we can exploit it to predict the popularity of Kian over time.\n",
    "\n",
    "First, we'll need to import the `LinearRegression` class from `sklearn`:"
   ]
  },
  {
   "cell_type": "code",
   "execution_count": null,
   "metadata": {
    "collapsed": true
   },
   "outputs": [],
   "source": [
    "from sklearn.linear_model import LinearRegression"
   ]
  },
  {
   "cell_type": "markdown",
   "metadata": {},
   "source": [
    "Earlier, we did a Granger causality test on the right hand side of the structural break in the Westlife singles data. This was mainly because the `grangercausalitytests` function in `statsmodels` is [limited](http://statsmodels.sourceforge.net/0.6.0/generated/statsmodels.tsa.stattools.grangercausalitytests.html) to testing for causality in two time series only, so it wasn't possible to include a dummy variable in the regression. However, using `sklearn`, this isn't a problem.\n",
    "\n",
    "Let's create a dummy variable to account for the fact that Westlife have only been in existence since 1999:"
   ]
  },
  {
   "cell_type": "code",
   "execution_count": null,
   "metadata": {
    "collapsed": false
   },
   "outputs": [],
   "source": [
    "# Create the dummy variable\n",
    "dummy = pd.Series([0] * (1999 - 1964) + [1] * (2015 - 1999), index=singles.index)\n",
    "\n",
    "# Make a quick plot, so we can see what it looks like\n",
    "fig = ph.line_plot(dummy)\n",
    "\n",
    "fig.data[0].line.update(color='grey')\n",
    "\n",
    "fig.layout.update(\n",
    "    height=400,\n",
    "    title='A dummy variable indicating the pre and post Westlife eras',\n",
    "    yaxis=dict(range=[0,1])\n",
    ")\n",
    "\n",
    "py.iplot(fig, show_link=False)"
   ]
  },
  {
   "cell_type": "markdown",
   "metadata": {},
   "source": [
    "Next, we'll create a lagged matrix (of two years) from the popularity data, the Westlife singles data and the dummy variable data and use this to build a regression model of the popularity of Kian over time:"
   ]
  },
  {
   "cell_type": "code",
   "execution_count": null,
   "metadata": {
    "collapsed": false,
    "scrolled": false
   },
   "outputs": [],
   "source": [
    "# Build the model\n",
    "X = lagmat(pd.concat([kian_pc, singles, dummy], axis=1).values, 2)\n",
    "y = kian_pc.values\n",
    "\n",
    "clf = LinearRegression(fit_intercept=False)\n",
    "clf.fit(X, y)\n",
    "\n",
    "predicted = pd.Series(clf.predict(X), index=kian_pc.index)\n",
    "predicted.name = 'Model prediction'\n",
    "\n",
    "# Plot the results\n",
    "fig = ph.line_plot(pd.concat([kian_pc, predicted], axis=1))\n",
    "\n",
    "fig.layout.update(\n",
    "    annotations=ph.annotate_metrics(y, predicted.values, 0.025, 1.025),\n",
    "    title='Predicting the popularity of the name Kian in Ireland, 1964-2014',\n",
    "    yaxis=dict(\n",
    "        hoverformat='.2%',\n",
    "        range=[0, 0.005],\n",
    "        tickformat='.2%',\n",
    "        title='Percentage of births'\n",
    "    )\n",
    ")\n",
    "\n",
    "py.iplot(fig, show_link=False)"
   ]
  },
  {
   "cell_type": "markdown",
   "metadata": {},
   "source": [
    "As you can see, the model predicts the popularity of Kian quite well, with a coefficient of determination value of $r^2 = 0.959$. However, if we exclude all the past popularity data from the predictor variables, the results are even more remarkable:"
   ]
  },
  {
   "cell_type": "code",
   "execution_count": null,
   "metadata": {
    "collapsed": false
   },
   "outputs": [],
   "source": [
    "# Build the model\n",
    "X = lagmat(pd.concat([singles, dummy], axis=1).values, 2)\n",
    "y = kian_pc.values\n",
    "\n",
    "clf = LinearRegression(fit_intercept=False)\n",
    "clf.fit(X, y)\n",
    "\n",
    "predicted = pd.Series(clf.predict(X), index=kian_pc.index)\n",
    "predicted.name = 'Model prediction (Westlife singles only)'\n",
    "\n",
    "# Plot the results\n",
    "fig = ph.line_plot(pd.concat([kian_pc, predicted], axis=1))\n",
    "\n",
    "fig.layout.update(\n",
    "    annotations=ph.annotate_metrics(y, predicted.values, 0.025, 1.025),\n",
    "    title='Predicting the popularity of the name Kian in Ireland, 1964-2014',\n",
    "    yaxis=dict(\n",
    "        hoverformat='.2%',\n",
    "        range=[0, 0.005],\n",
    "        tickformat='.2%',\n",
    "        title='Percentage of births'\n",
    "    )\n",
    ")\n",
    "\n",
    "py.iplot(fig, show_link=False)"
   ]
  },
  {
   "cell_type": "markdown",
   "metadata": {},
   "source": [
    "While this model is a little less accurate than the first, it doesn't rely on the past popularity of the name Kian when predicting its future popularity. Instead, it accurately predicts the popularity of the name based on the number of Westlife singles released in a given year alone.\n",
    "\n",
    "\n",
    "## Conclusion\n",
    "\n",
    "Using the Granger causality test and a standard vector regression, it's possible to build an accurate model that explains the current popularity of the name Kian using the number of Westlife singles released in the past two years.\n",
    "\n",
    "The popularity of the names of other Westlife members (Bryan/Brian, Mark, Nicky and Shane) are not as straighforward to model, as they (or their most common variants) were never as unpopular as the name Kian prior to Westlife releasing their first single.\n",
    "\n",
    "As Westlife last released a single in 2011, the current model will likely fail in 2015 and beyond, although it will be interesting to see whether future deviations from its predictions can be explained by Kian Egan's [solo releases](https://en.wikipedia.org/wiki/Kian_Egan#Discography), or taking into account the chart positions of singles, which I haven't done here but are a more intuitive indicator of popularity than the raw number of singles released in a given year."
   ]
  }
 ],
 "metadata": {
  "kernelspec": {
   "display_name": "Python 2",
   "language": "python",
   "name": "python2"
  },
  "language_info": {
   "codemirror_mode": {
    "name": "ipython",
    "version": 2
   },
   "file_extension": ".py",
   "mimetype": "text/x-python",
   "name": "python",
   "nbconvert_exporter": "python",
   "pygments_lexer": "ipython2",
   "version": "2.7.12"
  }
 },
 "nbformat": 4,
 "nbformat_minor": 1
}
